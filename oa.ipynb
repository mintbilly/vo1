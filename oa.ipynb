{
 "cells": [
  {
   "cell_type": "markdown",
   "metadata": {},
   "source": [
    "## Online Assessment for Robinhood  "
   ]
  },
  {
   "cell_type": "code",
   "execution_count": 1,
   "metadata": {},
   "outputs": [],
   "source": [
    "# Import packages\n",
    "import pandas as pd\n",
    "import numpy as np\n",
    "import statsmodels.api as sm\n",
    "from datetime import datetime\n",
    "from xgboost import XGBClassifier  \n",
    "from sklearn.ensemble import RandomForestClassifier\n",
    "from statsmodels.stats.outliers_influence import variance_inflation_factor \n",
    "from sklearn.linear_model import Lasso, LogisticRegression\n",
    "from sklearn.feature_selection import SelectFromModel\n",
    "from sklearn.metrics import roc_curve\n",
    "from sklearn.metrics import roc_auc_score \n",
    "from matplotlib import pyplot"
   ]
  },
  {
   "cell_type": "code",
   "execution_count": 18,
   "metadata": {},
   "outputs": [],
   "source": [
    "def column(matrix, i):\n",
    "    return [row[i] for row in matrix]"
   ]
  },
  {
   "cell_type": "markdown",
   "metadata": {},
   "source": [
    "### a. percentage of users have churned in the data  "
   ]
  },
  {
   "cell_type": "code",
   "execution_count": 2,
   "metadata": {},
   "outputs": [
    {
     "name": "stderr",
     "output_type": "stream",
     "text": [
      "<ipython-input-2-a8def295963c>:67: SettingWithCopyWarning: \n",
      "A value is trying to be set on a copy of a slice from a DataFrame\n",
      "\n",
      "See the caveats in the documentation: https://pandas.pydata.org/pandas-docs/stable/user_guide/indexing.html#returning-a-view-versus-a-copy\n",
      "  all_data['churned'][index] = 1\n"
     ]
    }
   ],
   "source": [
    "# a\n",
    "# percentage of users have churned in the data  \n",
    "# churned = equity value < 10 for 28 calendar days or longer   \n",
    "\n",
    "# account equity value per login\n",
    "equity_value = pd.read_csv('equity_value_data.csv')\n",
    "\n",
    "# The definition of Churned.\n",
    "# The base of Churn rate is the cumulative accounts originated before the date.\n",
    "# Condition 1: Since all accounts appeared in equity_value table,  \n",
    "#              for the date that the accounts have not in equity_value \n",
    "#              more than 28 days.\n",
    "# Condition 2: If any accounts return, then they are not churned.   \n",
    "# Condition 3: The first date per account is its origination date. \n",
    "\n",
    "# Identify the orgination date per account\n",
    "orgination_date = equity_value.groupby('user_id')['timestamp'].min()\n",
    "orgination_date = pd.DataFrame(orgination_date )\n",
    "orgination_date.reset_index(inplace=True)\n",
    "\n",
    "# Double check the date information \n",
    "# From '2016-08-16T00:00:00Z' to '2017-08-18T00:00:00Z'\n",
    "# 255 workdays\n",
    "# Excluded 52 Saturdays\n",
    "# Excluded 52 Sundays\n",
    "# Excluded 8 holidays: \n",
    "#       Labor day 9/5/2016\n",
    "#       Thanksgiving Day, 11/24/2016\n",
    "#       Chirstmas Day, 12/26/2016\n",
    "#       New Year's Day, 1/2/2017\n",
    "#       Martin Luther King Day, 1/16/2017\n",
    "#       Presidents' Day, 2/20/2017\n",
    "#       Memorial Day, 5/29/2017\n",
    "#       Independence Day, 7/4/2017\n",
    "# Therefore, the date of unique dates in equity_value table is used \n",
    "date = sorted(list(equity_value.timestamp.unique()))\n",
    "# Get all user_id\n",
    "user_id = sorted(list(equity_value.user_id.unique()))\n",
    "\n",
    "# Define the full dataset\n",
    "all_data = []\n",
    "for i in date:\n",
    "    for k in user_id:\n",
    "        all_data.append([i,k])\n",
    "all_data = pd.DataFrame(all_data)\n",
    "all_data.columns = ['timestamp','user_id']\n",
    "all_data.sort_values(by=['user_id','timestamp'],inplace=True)\n",
    "all_data = all_data.merge(equity_value,how='left',on=['user_id','timestamp'])\n",
    "\n",
    "# Identify origination date, and consider accounts \n",
    "# treated as a user only after its first appearance\n",
    "orgination_date.columns = ['user_id','timestamp_orig']\n",
    "all_data = all_data.merge(orgination_date,how='left',on=['user_id'])\n",
    "all_data = all_data[all_data['timestamp'] > all_data['timestamp_orig']]\n",
    "all_data['churned'] = 0\n",
    "\n",
    "# Search for churn per users over valid period\n",
    "# churned = equity value < 10 for 28 CALENDAR days or longer   \n",
    "\n",
    "temp_id, temp_last_active_date = '', ''\n",
    "for index, row in all_data.iterrows():\n",
    "    if row['user_id'] == temp_id:\n",
    "        if row['close_equity'] >= 10:\n",
    "            temp_last_active_date = datetime.strptime(row['timestamp'][:10], \"%Y-%m-%d\")\n",
    "        else:            \n",
    "            if abs((temp_last_active_date - datetime.strptime(row['timestamp'][:10], \"%Y-%m-%d\")).days) >= 28:\n",
    "                all_data['churned'][index] = 1\n",
    "    else:\n",
    "        temp_id = row['user_id']\n",
    "        # Since all accounts' first appearance treated as origination date\n",
    "        temp_last_active_date = datetime.strptime(row['timestamp'][:10], \"%Y-%m-%d\")"
   ]
  },
  {
   "cell_type": "code",
   "execution_count": 3,
   "metadata": {},
   "outputs": [
    {
     "data": {
      "text/plain": [
       "0.17997851002865328"
      ]
     },
     "execution_count": 3,
     "metadata": {},
     "output_type": "execute_result"
    }
   ],
   "source": [
    "# The percentage of users have churned ever\n",
    "all_data[all_data['churned'] == 1].user_id.nunique() / all_data.user_id.nunique()"
   ]
  },
  {
   "cell_type": "markdown",
   "metadata": {},
   "source": [
    "### b. Churn Rate modeling"
   ]
  },
  {
   "cell_type": "code",
   "execution_count": 4,
   "metadata": {},
   "outputs": [],
   "source": [
    "# Q2 Modeling  \n",
    "\n",
    "# features: The account origination info\n",
    "features = pd.read_csv('features_data.csv')\n",
    "# Churn probability per user\n",
    "churned = all_data.groupby('user_id')['churned'].max()\n",
    "churned = pd.DataFrame(churned)\n",
    "churned.reset_index(inplace=True)\n",
    "features = features.merge(churned,on='user_id')\n",
    "\n",
    "# define origination related variables \n",
    "orgination_date['orig_year'] = orgination_date.apply(lambda x: int(x['timestamp_orig'][:4]), axis=1)\n",
    "orgination_date['orig_year_2016'] = np.where(orgination_date['orig_year']==2016, 1, 0) \n",
    "orgination_date['orig_month'] = orgination_date.apply(lambda x: int(x['timestamp_orig'][5:7]), axis=1)\n",
    "orgination_date['q1'] = np.where(orgination_date['orig_month']<=3, 1, 0) \n",
    "orgination_date['q2'] = np.where((orgination_date['orig_month']<=6) & (orgination_date['orig_month']>3), 1, 0) \n",
    "orgination_date['q3'] = np.where((orgination_date['orig_month']<=9) & (orgination_date['orig_month']>6), 1, 0) \n",
    "orgination_date['number_days_in_panel'] = orgination_date.apply(lambda x: abs(datetime.strptime('2017-08-18', \"%Y-%m-%d\") - datetime.strptime(x['timestamp_orig'][:10], \"%Y-%m-%d\")).days, axis=1)\n",
    "features = features.merge(orgination_date,on='user_id')"
   ]
  },
  {
   "cell_type": "code",
   "execution_count": 5,
   "metadata": {},
   "outputs": [],
   "source": [
    "# Categorical variable encoding\n",
    "var_list = ['risk_tolerance','investment_experience',\n",
    "            'platform','time_horizon','instrument_type_first_traded']\n",
    "model_var = ['time_spent','first_deposit_amount','orig_year_2016','q1','q2','q3','number_days_in_panel']\n",
    "for var in var_list:\n",
    "    for i in list(features[var].unique())[:-1]:\n",
    "        features[i] = np.where(features[var] == i, 1, 0)\n",
    "        model_var.append(i)"
   ]
  },
  {
   "cell_type": "markdown",
   "metadata": {},
   "source": [
    "##### Trial 1. XGBoost and variable importance"
   ]
  },
  {
   "cell_type": "code",
   "execution_count": 36,
   "metadata": {},
   "outputs": [
    {
     "name": "stdout",
     "output_type": "stream",
     "text": [
      "[19:34:47] WARNING: C:/Users/Administrator/workspace/xgboost-win64_release_1.3.0/src/learner.cc:541: \n",
      "Parameters: { silent } might not be used.\n",
      "\n",
      "  This may not be accurate due to some parameters are only used in language bindings but\n",
      "  passed down to XGBoost core.  Or some parameters are not used but slip through this\n",
      "  verification. Please open an issue if you find above cases.\n",
      "\n",
      "\n",
      "[19:34:47] WARNING: C:/Users/Administrator/workspace/xgboost-win64_release_1.3.0/src/learner.cc:1061: Starting in XGBoost 1.3.0, the default evaluation metric used with the objective 'binary:logistic' was changed from 'error' to 'logloss'. Explicitly set eval_metric if you'd like to restore the old behavior.\n",
      "time_spent: 0.038102537\n",
      "first_deposit_amount: 0.057809275\n",
      "orig_year_2016: 0.15209007\n",
      "q1: 0.14242047\n",
      "q2: 0.010727336\n",
      "q3: 0.15855321\n",
      "number_days_in_panel: 0.12695922\n",
      "high_risk_tolerance: 0.048368327\n",
      "med_risk_tolerance: 0.044029552\n",
      "limited_investment_exp: 0.013033125\n",
      "no_investment_exp: 0.015600157\n",
      "good_investment_exp: 0.012535062\n",
      "Android: 0.042145222\n",
      "iOS: 0.043844078\n",
      "med_time_horizon: 0.019940939\n",
      "short_time_horizon: 0.035446\n",
      "stock: 0.011875898\n",
      "etp: 0.009922848\n",
      "adr: 0.016596634\n",
      "wrt: 0.0\n",
      "mlp: 0.0\n",
      "0: 0.0\n",
      "lp: 0.0\n",
      "rlt: 0.0\n",
      "reit: 0.0\n",
      "cef: 0.0\n"
     ]
    }
   ],
   "source": [
    "# See variable importance  \n",
    "\n",
    "y = features['churned']\n",
    "X = features[model_var]\n",
    "xgb_model = XGBClassifier(silent=False, \n",
    "                          scale_pos_weight=1,\n",
    "                          learning_rate=0.01,  \n",
    "                          colsample_bytree = 0.4,\n",
    "                          subsample = 0.8,\n",
    "                          objective='binary:logistic', \n",
    "                          n_estimators=1000, \n",
    "                          reg_alpha = 0.3,\n",
    "                          max_depth=6, \n",
    "                          gamma=10)\n",
    "xgb_model.fit(X,y)\n",
    "for i in range(len(xgb_model.feature_importances_)):\n",
    "    print(model_var[i] + ': ' + str(xgb_model.feature_importances_[i]))"
   ]
  },
  {
   "cell_type": "code",
   "execution_count": 37,
   "metadata": {},
   "outputs": [
    {
     "name": "stdout",
     "output_type": "stream",
     "text": [
      "Predicted churn rate is 0.1800125278278993\n",
      "Actual churn rate is 0.17997851002865328\n"
     ]
    }
   ],
   "source": [
    "features['xgb_pred'] = column(xgb_model.predict_proba(X),1)\n",
    "print('Predicted churn rate is ' + str(features['xgb_pred'].mean()))\n",
    "print('Actual churn rate is ' + str(features['churned'].mean()))"
   ]
  },
  {
   "cell_type": "markdown",
   "metadata": {},
   "source": [
    "Notes here XGB is not adopted due to its performance.    \n",
    "\n",
    "\n",
    "#####  Trial 2. Random Forest"
   ]
  },
  {
   "cell_type": "code",
   "execution_count": 25,
   "metadata": {},
   "outputs": [
    {
     "name": "stdout",
     "output_type": "stream",
     "text": [
      "time_spent: 0.1155331005061021\n",
      "first_deposit_amount: 0.16496721593675706\n",
      "orig_year_2016: 0.06966901513985134\n",
      "q1: 0.041483811539351205\n",
      "q2: 0.0037906672969541854\n",
      "q3: 0.10728889591426526\n",
      "number_days_in_panel: 0.2923705785901366\n",
      "high_risk_tolerance: 0.048441328752865935\n",
      "med_risk_tolerance: 0.027641067543048202\n",
      "limited_investment_exp: 0.009799273214871555\n",
      "no_investment_exp: 0.013285352093156587\n",
      "good_investment_exp: 0.009531975747709233\n",
      "Android: 0.010970047318644099\n",
      "iOS: 0.009549121290488601\n",
      "med_time_horizon: 0.008739509398298729\n",
      "short_time_horizon: 0.020094211973130785\n",
      "stock: 0.009595948630306876\n",
      "etp: 0.007694520584519845\n",
      "adr: 0.006482885730289986\n",
      "wrt: 0.004909443979587737\n",
      "mlp: 0.0036663819508599765\n",
      "0: 0.0008936806355881196\n",
      "lp: 0.006029792590876294\n",
      "rlt: 0.0014887988738894382\n",
      "reit: 0.0039855189689074625\n",
      "cef: 0.0020978557995428673\n"
     ]
    }
   ],
   "source": [
    "# See variable importance  \n",
    "\n",
    "y = features['churned']\n",
    "X = features[model_var]\n",
    "rf_model = RandomForestClassifier(max_depth=6)\n",
    "rf_model.fit(X,y)\n",
    "for i in range(len(rf_model.feature_importances_)):\n",
    "    print(model_var[i] + ': ' + str(rf_model.feature_importances_[i]))"
   ]
  },
  {
   "cell_type": "code",
   "execution_count": 27,
   "metadata": {},
   "outputs": [
    {
     "name": "stdout",
     "output_type": "stream",
     "text": [
      "Predicted churn rate is 0.17984260015620981\n",
      "Actual churn rate is 0.17997851002865328\n"
     ]
    }
   ],
   "source": [
    "features['rf_pred'] = column(rf_model.predict_proba(X),1)\n",
    "print('Predicted churn rate is ' + str(features['rf_pred'].mean()))\n",
    "print('Actual churn rate is ' + str(features['churned'].mean()))"
   ]
  },
  {
   "cell_type": "markdown",
   "metadata": {},
   "source": [
    "#####  Trial 3. Logistic Model\n",
    "\n",
    "- Lasso Logit regression is used for variable selection  \n",
    "- Variance inflation factor is used to check multicolinearity  \n",
    "- Variable selection:  \n",
    "    - From the list of important features from the LASSO regression, perform the logit regression.\n",
    "    - Backwards selection: Remove the least significant feature (largest p_value)\n",
    "    - Check VIF, remove the multicolineared features"
   ]
  },
  {
   "cell_type": "code",
   "execution_count": 12,
   "metadata": {},
   "outputs": [
    {
     "name": "stdout",
     "output_type": "stream",
     "text": [
      "total features: 26\n",
      "selected features: 7\n",
      "selected features: ['time_spent' 'first_deposit_amount' 'q3' 'number_days_in_panel'\n",
      " 'high_risk_tolerance' 'short_time_horizon' 'stock']\n"
     ]
    }
   ],
   "source": [
    "# Variable select with LASSO\n",
    "lasso = LogisticRegression(C=0.05, penalty=\"l1\", solver='liblinear')\n",
    "l1_model = SelectFromModel(lasso.fit(X, y),prefit=True)\n",
    "\n",
    "selected_feat = X.columns[(l1_model.get_support())]\n",
    "print('total features: {}'.format((X.shape[1])))\n",
    "print('selected features: {}'.format(len(selected_feat)))\n",
    "print('selected features: {}'.format(selected_feat.values))"
   ]
  },
  {
   "cell_type": "code",
   "execution_count": 13,
   "metadata": {},
   "outputs": [
    {
     "name": "stdout",
     "output_type": "stream",
     "text": [
      "Optimization terminated successfully.\n",
      "         Current function value: 0.439150\n",
      "         Iterations 7\n",
      "                           Logit Regression Results                           \n",
      "==============================================================================\n",
      "Dep. Variable:                churned   No. Observations:                 5584\n",
      "Model:                          Logit   Df Residuals:                     5577\n",
      "Method:                           MLE   Df Model:                            6\n",
      "Date:                Mon, 14 Dec 2020   Pseudo R-squ.:                 0.06833\n",
      "Time:                        19:28:26   Log-Likelihood:                -2452.2\n",
      "converged:                       True   LL-Null:                       -2632.1\n",
      "Covariance Type:            nonrobust   LLR p-value:                 1.259e-74\n",
      "========================================================================================\n",
      "                           coef    std err          z      P>|z|      [0.025      0.975]\n",
      "----------------------------------------------------------------------------------------\n",
      "time_spent               0.0002      0.000      1.331      0.183      -0.000       0.001\n",
      "first_deposit_amount    -0.0002   4.96e-05     -4.568      0.000      -0.000      -0.000\n",
      "number_days_in_panel    -0.0067      0.000    -14.848      0.000      -0.008      -0.006\n",
      "high_risk_tolerance     -0.4669      0.073     -6.377      0.000      -0.610      -0.323\n",
      "short_time_horizon       0.2157      0.073      2.951      0.003       0.072       0.359\n",
      "stock                    0.1888      0.113      1.678      0.093      -0.032       0.409\n",
      "intercept                0.5978      0.177      3.377      0.001       0.251       0.945\n",
      "========================================================================================\n"
     ]
    },
    {
     "name": "stderr",
     "output_type": "stream",
     "text": [
      "<ipython-input-13-3132265560c4>:7: SettingWithCopyWarning: \n",
      "A value is trying to be set on a copy of a slice from a DataFrame.\n",
      "Try using .loc[row_indexer,col_indexer] = value instead\n",
      "\n",
      "See the caveats in the documentation: https://pandas.pydata.org/pandas-docs/stable/user_guide/indexing.html#returning-a-view-versus-a-copy\n",
      "  X_logit['intercept'] = 1\n"
     ]
    }
   ],
   "source": [
    "# Logit model after variable selection\n",
    "# Did backward selection manually\n",
    "#X_logit = features[['time_spent', 'first_deposit_amount', 'number_days_in_panel',\n",
    "#                    'high_risk_tolerance', 'short_time_horizon', 'stock' ]]\n",
    "X_logit = features[['time_spent', 'first_deposit_amount', 'number_days_in_panel',\n",
    "                    'high_risk_tolerance', 'short_time_horizon', 'stock']]\n",
    "X_logit['intercept'] = 1\n",
    "log_reg = sm.Logit(y, X_logit).fit() \n",
    "print(log_reg.summary())"
   ]
  },
  {
   "cell_type": "code",
   "execution_count": 14,
   "metadata": {},
   "outputs": [
    {
     "name": "stdout",
     "output_type": "stream",
     "text": [
      "Predicted churn rate is 0.17907848089935446\n",
      "Actual churn rate is 0.17997851002865328\n"
     ]
    }
   ],
   "source": [
    "log_model = LogisticRegression().fit(X_logit,y)\n",
    "features['logit_pred'] = column(log_model.predict_proba(X_logit),1)\n",
    "print('Predicted churn rate is ' + str(features['logit_pred'].mean()))\n",
    "print('Actual churn rate is ' + str(features['churned'].mean()))"
   ]
  },
  {
   "cell_type": "code",
   "execution_count": 15,
   "metadata": {},
   "outputs": [
    {
     "data": {
      "text/html": [
       "<div>\n",
       "<style scoped>\n",
       "    .dataframe tbody tr th:only-of-type {\n",
       "        vertical-align: middle;\n",
       "    }\n",
       "\n",
       "    .dataframe tbody tr th {\n",
       "        vertical-align: top;\n",
       "    }\n",
       "\n",
       "    .dataframe thead th {\n",
       "        text-align: right;\n",
       "    }\n",
       "</style>\n",
       "<table border=\"1\" class=\"dataframe\">\n",
       "  <thead>\n",
       "    <tr style=\"text-align: right;\">\n",
       "      <th></th>\n",
       "      <th>feature</th>\n",
       "      <th>VIF</th>\n",
       "    </tr>\n",
       "  </thead>\n",
       "  <tbody>\n",
       "    <tr>\n",
       "      <th>0</th>\n",
       "      <td>time_spent</td>\n",
       "      <td>1.005590</td>\n",
       "    </tr>\n",
       "    <tr>\n",
       "      <th>1</th>\n",
       "      <td>first_deposit_amount</td>\n",
       "      <td>1.006122</td>\n",
       "    </tr>\n",
       "    <tr>\n",
       "      <th>2</th>\n",
       "      <td>number_days_in_panel</td>\n",
       "      <td>1.021263</td>\n",
       "    </tr>\n",
       "    <tr>\n",
       "      <th>3</th>\n",
       "      <td>high_risk_tolerance</td>\n",
       "      <td>1.027647</td>\n",
       "    </tr>\n",
       "    <tr>\n",
       "      <th>4</th>\n",
       "      <td>short_time_horizon</td>\n",
       "      <td>1.019018</td>\n",
       "    </tr>\n",
       "    <tr>\n",
       "      <th>5</th>\n",
       "      <td>stock</td>\n",
       "      <td>1.004002</td>\n",
       "    </tr>\n",
       "  </tbody>\n",
       "</table>\n",
       "</div>"
      ],
      "text/plain": [
       "                feature       VIF\n",
       "0            time_spent  1.005590\n",
       "1  first_deposit_amount  1.006122\n",
       "2  number_days_in_panel  1.021263\n",
       "3   high_risk_tolerance  1.027647\n",
       "4    short_time_horizon  1.019018\n",
       "5                 stock  1.004002"
      ]
     },
     "execution_count": 15,
     "metadata": {},
     "output_type": "execute_result"
    }
   ],
   "source": [
    "vif_data = pd.DataFrame() \n",
    "vif_data[\"feature\"] = X_logit.columns[:-1] \n",
    "\n",
    "# Multicolinearity check\n",
    "# calculating VIF for each feature \n",
    "vif_data[\"VIF\"] = [variance_inflation_factor(X_logit.values, i) \n",
    "                          for i in range(len(X_logit.columns)-1)] \n",
    "vif_data"
   ]
  },
  {
   "cell_type": "markdown",
   "metadata": {},
   "source": [
    "#####  AUC of ROC   \n",
    "\n",
    "Randomly draw a sample from the modeling sample with replacement"
   ]
  },
  {
   "cell_type": "code",
   "execution_count": 16,
   "metadata": {},
   "outputs": [],
   "source": [
    "val_sample_index = np.random.choice(range(len(features)),len(features),replace=True)\n",
    "val_sample = features.iloc[list(val_sample_index)]"
   ]
  },
  {
   "cell_type": "code",
   "execution_count": 38,
   "metadata": {},
   "outputs": [
    {
     "name": "stderr",
     "output_type": "stream",
     "text": [
      "<ipython-input-38-145b0eb851f9>:5: SettingWithCopyWarning: \n",
      "A value is trying to be set on a copy of a slice from a DataFrame.\n",
      "Try using .loc[row_indexer,col_indexer] = value instead\n",
      "\n",
      "See the caveats in the documentation: https://pandas.pydata.org/pandas-docs/stable/user_guide/indexing.html#returning-a-view-versus-a-copy\n",
      "  val_sample['intercept'] = 1\n"
     ]
    }
   ],
   "source": [
    "model_var = ['time_spent','first_deposit_amount','orig_year_2016','q1','q2','q3','number_days_in_panel']\n",
    "for var in var_list:\n",
    "    for i in list(features[var].unique())[:-1]:\n",
    "        model_var.append(i)\n",
    "val_sample['intercept'] = 1\n",
    "xgb_pred_prob = xgb_model.predict_proba(val_sample[model_var])\n",
    "rf_pred_prob  = rf_model.predict_proba(val_sample[model_var])\n",
    "log_pred_prob = log_model.predict_proba(val_sample[X_logit.columns])"
   ]
  },
  {
   "cell_type": "code",
   "execution_count": 39,
   "metadata": {
    "scrolled": true
   },
   "outputs": [
    {
     "name": "stdout",
     "output_type": "stream",
     "text": [
      "Logistic: ROC AUC=0.711\n",
      "XGBoost: ROC AUC=0.737\n",
      "RF: ROC AUC=0.770\n"
     ]
    }
   ],
   "source": [
    "log_auc = roc_auc_score(val_sample['churned'], column(log_pred_prob,1))\n",
    "xgb_auc = roc_auc_score(val_sample['churned'], column(xgb_pred_prob,1))\n",
    "rfm_auc = roc_auc_score(val_sample['churned'], column(rf_pred_prob,1))\n",
    "print('Logistic: ROC AUC=%.3f' % (log_auc))\n",
    "print('XGBoost: ROC AUC=%.3f' % (xgb_auc))\n",
    "print('RF: ROC AUC=%.3f' % (rfm_auc))"
   ]
  },
  {
   "cell_type": "code",
   "execution_count": 40,
   "metadata": {},
   "outputs": [
    {
     "data": {
      "image/png": "[encoded data removed]",
      "text/plain": [
       "<Figure size 432x288 with 1 Axes>"
      ]
     },
     "metadata": {
      "needs_background": "light"
     },
     "output_type": "display_data"
    }
   ],
   "source": [
    "# calculate roc curves\n",
    "log_fpr, log_tpr, _ = roc_curve(val_sample['churned'], column(log_pred_prob,1))\n",
    "xgb_fpr, xgb_tpr, _ = roc_curve(val_sample['churned'], column(xgb_pred_prob,1))\n",
    "rfm_fpr, rfm_tpr, _ = roc_curve(val_sample['churned'], column(rf_pred_prob,1))\n",
    "# plot the roc curve for the model\n",
    "pyplot.plot(log_fpr, log_tpr, marker='.', label='Logistic')\n",
    "pyplot.plot(xgb_fpr, xgb_tpr,  label='XGB')\n",
    "pyplot.plot(rfm_fpr, rfm_tpr,  label='RF')\n",
    "# axis labels\n",
    "pyplot.xlabel('False Positive Rate')\n",
    "pyplot.ylabel('True Positive Rate')\n",
    "# show the legend\n",
    "pyplot.legend()\n",
    "# show the plot\n",
    "pyplot.show()"
   ]
  },
  {
   "cell_type": "markdown",
   "metadata": {},
   "source": [
    "##### Conclusion.\n",
    "\n",
    "Random Forest is preferred.     \n",
    "XGBoost might have over-fitting issue with appropriate defined parameters.    \n",
    "Logitistic regression needs to prevent multicolinearity and remove insignificant variables.  "
   ]
  },
  {
   "cell_type": "markdown",
   "metadata": {},
   "source": [
    "### c. feature importance    \n",
    "\n",
    "As shown above, I checked the feature importance with XG Boost, Random Forest and Lasso Regression, and found the most important variable (without the origination date related variables) based on **Random Forest** is \n",
    "\n",
    "- time_spent\n",
    "- first_deposit_amount\n",
    "- short_time_horizon\n",
    "- iOS\n",
    "- high_risk_tolerance\n",
    "- med_time_horizon"
   ]
  },
  {
   "cell_type": "code",
   "execution_count": 41,
   "metadata": {},
   "outputs": [
    {
     "name": "stdout",
     "output_type": "stream",
     "text": [
      "time_spent: 0.2681797672234218\n",
      "first_deposit_amount: 0.33636188061175887\n",
      "high_risk_tolerance: 0.10866087663558198\n",
      "med_risk_tolerance: 0.05613427804975677\n",
      "limited_investment_exp: 0.015324753368905993\n",
      "no_investment_exp: 0.02215423242444683\n",
      "good_investment_exp: 0.013369712234464034\n",
      "Android: 0.016463300714870007\n",
      "iOS: 0.014984789563322028\n",
      "med_time_horizon: 0.019680526546607895\n",
      "short_time_horizon: 0.03220790460979093\n",
      "stock: 0.01750667015636346\n",
      "etp: 0.013347596506420381\n",
      "adr: 0.01029204342739363\n",
      "wrt: 0.01276461483240701\n",
      "mlp: 0.007453151301435698\n",
      "0: 0.001787369020234052\n",
      "lp: 0.01162350663403014\n",
      "rlt: 0.006302736918936045\n",
      "reit: 0.010887282206010658\n",
      "cef: 0.004513007013841725\n"
     ]
    }
   ],
   "source": [
    "# See variable importance  \n",
    "var_list = ['risk_tolerance','investment_experience',\n",
    "            'platform','time_horizon','instrument_type_first_traded']\n",
    "model_var = ['time_spent','first_deposit_amount']\n",
    "for var in var_list:\n",
    "    for i in list(features[var].unique())[:-1]:\n",
    "        features[i] = np.where(features[var] == i, 1, 0)\n",
    "        model_var.append(i)             \n",
    "             \n",
    "y = features['churned']\n",
    "X = features[model_var]\n",
    "rf_model = RandomForestClassifier(max_depth=6)\n",
    "rf_model.fit(X,y)\n",
    "for i in range(len(rf_model.feature_importances_)):\n",
    "    print(model_var[i] + ': ' + str(rf_model.feature_importances_[i]))"
   ]
  },
  {
   "cell_type": "markdown",
   "metadata": {},
   "source": [
    "With the orgination date related variables (The date the per account first appeared)   \n",
    "\n",
    "The most important variables are  \n",
    "- time_spent\n",
    "- number_days_in_panel\n",
    "- first_deposit_amount\n",
    "- -short_time_horizon\n",
    "- iOS\n",
    "- Android\n",
    "- high_risk_tolerance\n",
    "- q3"
   ]
  },
  {
   "cell_type": "code",
   "execution_count": 42,
   "metadata": {},
   "outputs": [
    {
     "name": "stdout",
     "output_type": "stream",
     "text": [
      "time_spent: 0.11294630226624067\n",
      "first_deposit_amount: 0.17013540737916105\n",
      "orig_year_2016: 0.06183764097939575\n",
      "q1: 0.048673940331912746\n",
      "q2: 0.004643491259981527\n",
      "q3: 0.1036465715046649\n",
      "number_days_in_panel: 0.29733028091120806\n",
      "high_risk_tolerance: 0.04890587228049329\n",
      "med_risk_tolerance: 0.02711687210892111\n",
      "limited_investment_exp: 0.01014495301287534\n",
      "no_investment_exp: 0.013122916675491921\n",
      "good_investment_exp: 0.009668765529286048\n",
      "Android: 0.009889436203435164\n",
      "iOS: 0.011307914188934265\n",
      "med_time_horizon: 0.007894236541752288\n",
      "short_time_horizon: 0.016769348856989972\n",
      "stock: 0.007110205086508223\n",
      "etp: 0.007807542018706118\n",
      "adr: 0.006316155991235739\n",
      "wrt: 0.003921454840765202\n",
      "mlp: 0.003660634040127298\n",
      "0: 0.0006455311860272779\n",
      "lp: 0.007261179506517287\n",
      "rlt: 0.002801446551362158\n",
      "reit: 0.00480991724269292\n",
      "cef: 0.001631983505313728\n"
     ]
    }
   ],
   "source": [
    "# See variable importance  \n",
    "var_list = ['risk_tolerance','investment_experience',\n",
    "            'platform','time_horizon','instrument_type_first_traded']\n",
    "model_var = ['time_spent','first_deposit_amount','orig_year_2016','q1','q2','q3','number_days_in_panel']\n",
    "for var in var_list:\n",
    "    for i in list(features[var].unique())[:-1]:\n",
    "        features[i] = np.where(features[var] == i, 1, 0)\n",
    "        model_var.append(i)             \n",
    "             \n",
    "y = features['churned']\n",
    "X = features[model_var]\n",
    "rf_model = RandomForestClassifier(max_depth=6)\n",
    "rf_model.fit(X,y)\n",
    "for i in range(len(rf_model.feature_importances_)):\n",
    "    print(model_var[i] + ': ' + str(rf_model.feature_importances_[i]))"
   ]
  }
 ],
 "metadata": {
  "kernelspec": {
   "display_name": "Python 3",
   "language": "python",
   "name": "python3"
  },
  "language_info": {
   "codemirror_mode": {
    "name": "ipython",
    "version": 3
   },
   "file_extension": ".py",
   "mimetype": "text/x-python",
   "name": "python",
   "nbconvert_exporter": "python",
   "pygments_lexer": "ipython3",
   "version": "3.8.3"
  }
 },
 "nbformat": 4,
 "nbformat_minor": 4
}
